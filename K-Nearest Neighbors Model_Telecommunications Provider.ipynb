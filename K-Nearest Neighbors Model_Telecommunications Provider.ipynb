{
 "cells": [
  {
   "cell_type": "code",
   "execution_count": 16,
   "metadata": {},
   "outputs": [
    {
     "name": "stdout",
     "output_type": "stream",
     "text": [
      "Number of customers in each classes:\n",
      " 3    281\n",
      "1    266\n",
      "4    236\n",
      "2    217\n",
      "Name: custcat, dtype: int64\n"
     ]
    },
    {
     "data": {
      "image/png": "[encoded data removed]",
      "text/plain": [
       "<Figure size 432x288 with 1 Axes>"
      ]
     },
     "metadata": {
      "needs_background": "light"
     },
     "output_type": "display_data"
    },
    {
     "name": "stdout",
     "output_type": "stream",
     "text": [
      "Train set: (800, 11) (800,)\n",
      "Test set: (200, 11) (200,)\n",
      "Train set Accuracy for k=4:  0.5475\n",
      "Test set Accuracy for k=4:  0.32\n",
      "\n",
      " Model accuracy for Different number of Neighbors:\n"
     ]
    },
    {
     "data": {
      "image/png": "[encoded data removed]",
      "text/plain": [
       "<Figure size 432x288 with 1 Axes>"
      ]
     },
     "metadata": {
      "needs_background": "light"
     },
     "output_type": "display_data"
    },
    {
     "name": "stdout",
     "output_type": "stream",
     "text": [
      "The best accuracy was with 0.34 with k= 9\n"
     ]
    }
   ],
   "source": [
    "#########################################################################################################################\n",
    "##########################################   K-Nearest Neighbors Model   ################################################\n",
    "#########################################################################################################################\n",
    "\n",
    "# K-Nearest Neighbors is an algorithm for supervised learning. Where the data is 'trained' with data points corresponding \n",
    "# to their classification. Once a point is to be predicted, it takes into account the 'K' nearest points to it to determine \n",
    "# it's classification.\n",
    "\n",
    "# Lets load required libraries\n",
    "import itertools\n",
    "import numpy as np\n",
    "import matplotlib.pyplot as plt\n",
    "from matplotlib.ticker import NullFormatter\n",
    "import pandas as pd\n",
    "import matplotlib.ticker as ticker\n",
    "from sklearn import preprocessing\n",
    "from sklearn.neighbors import KNeighborsClassifier\n",
    "from sklearn.model_selection import train_test_split\n",
    "from sklearn import metrics\n",
    "%matplotlib inline\n",
    "\n",
    "# About the dataset\n",
    "# A telecommunications provider has segmented its customer base by service usage patterns, categorizing the customers into four \n",
    "# groups. If demographic data can be used to predict group membership, the company can customize offers for individual \n",
    "# prospective customers. It is a classification problem. That is, given the dataset, with predefined labels, we need to build \n",
    "# a model to be used to predict class of a new or unknown case.\n",
    "# The example focuses on using demographic data, such as region, age, and marital, to predict usage patterns.\n",
    "# The target field, called custcat, has four possible values that correspond to the four customer groups, as follows: \n",
    "# 1- Basic Service 2- E-Service 3- Plus Service 4- Total Service\n",
    "# Our objective is to build a classifier, to predict the class of unknown cases. We will use a specific type of classification \n",
    "# called K nearest neighbour.\n",
    "# Lets download the dataset. To download the data, we will use !wget to download it from IBM Object Storage.\n",
    "\n",
    "# Load Data From CSV File\n",
    "url='https://s3-api.us-geo.objectstorage.softlayer.net/cf-courses-data/CognitiveClass/ML0101ENv3/labs/teleCust1000t.csv'\n",
    "df = pd.read_csv(url)\n",
    "df.head()\n",
    "\n",
    "# Data Visualization and Analysis\n",
    "# Let’s see how many of each class is in our data set\n",
    "print(\"Number of customers in each classes:\\n\",df['custcat'].value_counts())\n",
    "\n",
    "# We can easily explore your data using visualization techniques:\n",
    "plt.hist(df['income'], density = False, bins=50)\n",
    "plt.ylabel('Number of Customers')\n",
    "plt.xlabel('Income in Thousands per Year')\n",
    "plt.show()\n",
    "\n",
    "# Feature set:\n",
    "# Lets define feature sets, X\n",
    "df.columns\n",
    "\n",
    "#To use scikit-learn library, we have to convert the Pandas data frame to a Numpy array:\n",
    "X = df[['region', 'tenure','age', 'marital', 'address', 'income', 'ed', 'employ','retire', 'gender', 'reside']] .values  #.astype(float)\n",
    "X[0:5]\n",
    "\n",
    "y = df['custcat'].values\n",
    "y[0:5]\n",
    "\n",
    "# Normalize Data\n",
    "# Data Standardization give data zero mean and unit variance, it is good practice, especially for algorithms such as KNN \n",
    "# which is based on distance of cases\n",
    "\n",
    "X = preprocessing.StandardScaler().fit(X).transform(X.astype(float))\n",
    "X[0:5]\n",
    "\n",
    "# Train Test Split\n",
    "\n",
    "X_train, X_test, y_train, y_test = train_test_split( X, y, test_size=0.2, random_state=4)\n",
    "print ('Train set:', X_train.shape,  y_train.shape)\n",
    "print ('Test set:', X_test.shape,  y_test.shape)\n",
    "\n",
    "# Classification:\n",
    "# K nearest neighbor (KNN)\n",
    "# Training\n",
    "# Lets start the algorithm with k=4 for now:\n",
    "k = 4\n",
    "#Train Model and Predict  \n",
    "neigh = KNeighborsClassifier(n_neighbors = k).fit(X_train,y_train)\n",
    "neigh\n",
    "\n",
    "# Predicting\n",
    "# we can use the model to predict the test set:\n",
    "yhat = neigh.predict(X_test)\n",
    "yhat[0:5]\n",
    "\n",
    "# Accuracy evaluation\n",
    "# In multilabel classification, accuracy classification score is a function that computes subset accuracy. \n",
    "# This function is equal to the jaccard_similarity_score function. Essentially, it calculates how closely the actual labels \n",
    "# and predicted labels are matched in the test set.\n",
    "\n",
    "print(\"Train set Accuracy for k=4: \", metrics.accuracy_score(y_train, neigh.predict(X_train)))\n",
    "print(\"Test set Accuracy for k=4: \", metrics.accuracy_score(y_test, yhat))\n",
    "\n",
    "# What about other K?\n",
    "# K in KNN, is the number of nearest neighbors to examine. It is supposed to be specified by the User. So, how can we choose \n",
    "# right value for K? The general solution is to reserve a part of your data for testing the accuracy of the model. \n",
    "# Then chose k =1, use the training part for modeling, and calculate the accuracy of prediction using all samples in your \n",
    "# test set. Repeat this process, increasing the k, and see which k is the best for your model.\n",
    "# We can calculate the accuracy of KNN for different Ks:\n",
    "\n",
    "Ks = 10\n",
    "mean_acc = np.zeros((Ks-1))\n",
    "std_acc = np.zeros((Ks-1))\n",
    "ConfustionMx = [];\n",
    "for n in range(1,Ks):\n",
    "    \n",
    "    #Train Model and Predict  \n",
    "    neigh = KNeighborsClassifier(n_neighbors = n).fit(X_train,y_train)\n",
    "    yhat=neigh.predict(X_test)\n",
    "    mean_acc[n-1] = metrics.accuracy_score(y_test, yhat)\n",
    "    std_acc[n-1]=np.std(yhat==y_test)/np.sqrt(yhat.shape[0])\n",
    "mean_acc\n",
    "\n",
    "# Plot model accuracy for Different number of Neighbors\n",
    "print('\\n Model accuracy for Different number of Neighbors:')\n",
    "plt.plot(range(1,Ks),mean_acc,'g')\n",
    "plt.fill_between(range(1,Ks),mean_acc - 1 * std_acc,mean_acc + 1 * std_acc, alpha=0.10)\n",
    "plt.legend(('Accuracy ', '+/- 3xstd'))\n",
    "plt.ylabel('Accuracy ')\n",
    "plt.xlabel('Number of Nabors (K)')\n",
    "plt.tight_layout()\n",
    "plt.show()\n",
    "\n",
    "print( \"The best accuracy was with\", mean_acc.max(), \"with k=\", mean_acc.argmax()+1) "
   ]
  },
  {
   "cell_type": "code",
   "execution_count": null,
   "metadata": {},
   "outputs": [],
   "source": []
  },
  {
   "cell_type": "code",
   "execution_count": null,
   "metadata": {},
   "outputs": [],
   "source": []
  },
  {
   "cell_type": "code",
   "execution_count": null,
   "metadata": {},
   "outputs": [],
   "source": []
  }
 ],
 "metadata": {
  "kernelspec": {
   "display_name": "Python 3",
   "language": "python",
   "name": "python3"
  },
  "language_info": {
   "codemirror_mode": {
    "name": "ipython",
    "version": 3
   },
   "file_extension": ".py",
   "mimetype": "text/x-python",
   "name": "python",
   "nbconvert_exporter": "python",
   "pygments_lexer": "ipython3",
   "version": "3.7.6"
  }
 },
 "nbformat": 4,
 "nbformat_minor": 4
}
